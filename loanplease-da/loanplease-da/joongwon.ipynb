{
 "cells": [
  {
   "cell_type": "code",
   "id": "initial_id",
   "metadata": {
    "collapsed": true,
    "ExecuteTime": {
     "end_time": "2024-04-24T07:17:11.689858Z",
     "start_time": "2024-04-24T07:17:11.678264Z"
    }
   },
   "source": [
    "## 라이브러리 구성\n",
    "\n",
    "import numpy as np\n",
    "import pandas as pd\n",
    "import seaborn as sns\n",
    "import matplotlib.pyplot as plt\n",
    "import warnings, random\n",
    "warnings.filterwarnings(action='ignore')\n",
    "\n",
    "from sklearn.metrics import log_loss\n",
    "from sklearn.preprocessing import StandardScaler\n",
    "from category_encoders.ordinal import OrdinalEncoder\n",
    "from sklearn.model_selection import StratifiedKFold\n",
    "\n",
    "from sklearn.cluster import KMeans\n",
    "from catboost import CatBoostClassifier, Pool"
   ],
   "outputs": [],
   "execution_count": 7
  },
  {
   "metadata": {
    "ExecuteTime": {
     "end_time": "2024-04-24T07:20:23.346215Z",
     "start_time": "2024-04-24T07:20:23.300064Z"
    }
   },
   "cell_type": "code",
   "source": [
    "## 데이터 불러오기 \n",
    "path = 'dataset/'\n",
    "train = pd.read_csv(path + 'train.csv')\n",
    "test = pd.read_csv(path + 'test.csv')"
   ],
   "id": "2ede6c1264ce5a1f",
   "outputs": [],
   "execution_count": 8
  },
  {
   "metadata": {
    "ExecuteTime": {
     "end_time": "2024-04-24T07:20:53.637414Z",
     "start_time": "2024-04-24T07:20:53.624912Z"
    }
   },
   "cell_type": "code",
   "source": [
    "## 결측치 처리\n",
    "train.fillna('NaN', inplace=True)\n",
    "test.fillna('NaN', inplace=True)\n",
    "\n",
    "## 이상치 처리 \n",
    "train = train[(train['family_size'] <= 7)]\n",
    "train = train.reset_index(drop=True)"
   ],
   "id": "3508d05662746f86",
   "outputs": [],
   "execution_count": 10
  },
  {
   "metadata": {},
   "cell_type": "code",
   "outputs": [],
   "execution_count": null,
   "source": "",
   "id": "209731e3400c5de7"
  }
 ],
 "metadata": {
  "kernelspec": {
   "display_name": "loanplease(python3.9)",
   "language": "python",
   "name": "loanplease"
  },
  "language_info": {
   "codemirror_mode": {
    "name": "ipython",
    "version": 2
   },
   "file_extension": ".py",
   "mimetype": "text/x-python",
   "name": "python",
   "nbconvert_exporter": "python",
   "pygments_lexer": "ipython2",
   "version": "2.7.6"
  }
 },
 "nbformat": 4,
 "nbformat_minor": 5
}
