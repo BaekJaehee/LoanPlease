{
 "cells": [
  {
   "cell_type": "code",
   "id": "initial_id",
   "metadata": {
    "collapsed": true,
    "ExecuteTime": {
     "end_time": "2024-04-25T06:46:52.700433Z",
     "start_time": "2024-04-25T06:46:52.697167Z"
    }
   },
   "source": [
    "%%writefile main.py\n",
    "from fastapi import FastAPI\n",
    "from pydantic import BaseModel\n",
    "import joblib\n",
    "\n",
    "# 앱과 모델 초기화\n",
    "app = FastAPI(title=\"Loan Please API\")\n",
    "\n",
    "# 모델 로드\n",
    "model = joblib.load(\"/home/j-k10d105/model.pkl\")\n",
    "\n",
    "# 입력 데이터 모델\n",
    "class Customer(BaseModel):\n",
    "    index: int\n",
    "    gender: str\n",
    "    car: str\n",
    "    reality: str\n",
    "    child_num: int\n",
    "    income_total: float\n",
    "    income_type: str\n",
    "    edu_type: str\n",
    "    family_type: str \n",
    "    house_type: str\n",
    "    DAYS_BIRTH: int\n",
    "    DAYS_EMPLOYED: int\n",
    "    FLAG_MOBIL: int\n",
    "    work_phone: int\n",
    "    phone: int\n",
    "    email: int\n",
    "    occyp_type: str\n",
    "    family_size: float\n",
    "    begin_month: float\n",
    "  \n",
    "# 예측을 위한 경로\n",
    "@app.post(\"/\")\n",
    "async def predict(customer: Customer):\n",
    "\n",
    "    score = model.predict_proba(customer)\n",
    "    return {\n",
    "        \"score\": float(score)\n",
    "    }\n"
   ],
   "outputs": [
    {
     "name": "stdout",
     "output_type": "stream",
     "text": [
      "Overwriting main.py\n"
     ]
    }
   ],
   "execution_count": 3
  },
  {
   "metadata": {},
   "cell_type": "code",
   "outputs": [],
   "execution_count": null,
   "source": "",
   "id": "e65ebd8d30256a9d"
  }
 ],
 "metadata": {
  "kernelspec": {
   "display_name": "loanplease(python3.9)",
   "language": "python",
   "name": "loanplease"
  },
  "language_info": {
   "codemirror_mode": {
    "name": "ipython",
    "version": 2
   },
   "file_extension": ".py",
   "mimetype": "text/x-python",
   "name": "python",
   "nbconvert_exporter": "python",
   "pygments_lexer": "ipython2",
   "version": "2.7.6"
  }
 },
 "nbformat": 4,
 "nbformat_minor": 5
}
